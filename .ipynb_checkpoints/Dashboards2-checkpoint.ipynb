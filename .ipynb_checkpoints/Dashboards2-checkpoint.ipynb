{
 "cells": [
  {
   "cell_type": "code",
   "execution_count": 5,
   "id": "711442c6",
   "metadata": {},
   "outputs": [
    {
     "data": {
      "text/html": [
       "\n",
       "        <iframe\n",
       "            width=\"100%\"\n",
       "            height=\"650\"\n",
       "            src=\"http://127.0.0.1:8866/\"\n",
       "            frameborder=\"0\"\n",
       "            allowfullscreen\n",
       "            \n",
       "        ></iframe>\n",
       "        "
      ],
      "text/plain": [
       "<IPython.lib.display.IFrame at 0x2067c307550>"
      ]
     },
     "metadata": {},
     "output_type": "display_data"
    }
   ],
   "source": [
    "import dash\n",
    "from dash import dcc, html\n",
    "from dash.dependencies import Input, Output\n",
    "import plotly.express as px\n",
    "import pandas as pd\n",
    "\n",
    "# Initialize the Dash app\n",
    "app = dash.Dash(__name__)\n",
    "\n",
    "# Example data (replace with your actual data)\n",
    "data = {\n",
    "    \"Date\": [\"2024-01-01\", \"2024-01-02\", \"2024-01-03\", \"2024-01-04\", \"2024-01-05\"],\n",
    "    \"Vader Score\": [0.1, 0.2, -0.1, 0.3, -0.2],\n",
    "}\n",
    "\n",
    "df = pd.DataFrame(data)\n",
    "\n",
    "# Define plot functions\n",
    "def plot_vader_score_missing_values():\n",
    "    df_missing = pd.DataFrame({\n",
    "        \"Date\": [\"2024-01-01\", \"2024-01-02\", \"2024-01-03\", \"2024-01-04\", \"2024-01-05\"],\n",
    "        \"Vader Score\": [None, 2, None, 4, None]\n",
    "    })\n",
    "    fig = px.line(df_missing, x=\"Date\", y=\"Vader Score\", title=\"Vader Score Over Time: Missing Values\")\n",
    "    return fig\n",
    "\n",
    "def plot_vader_score_interpolation():\n",
    "    df_interpolated = pd.DataFrame({\n",
    "        \"Date\": [\"2024-01-01\", \"2024-01-02\", \"2024-01-03\", \"2024-01-04\", \"2024-01-05\"],\n",
    "        \"Vader Score\": [1, 2, 3, 4, 5]\n",
    "    })\n",
    "    fig = px.line(df_interpolated, x=\"Date\", y=\"Vader Score\", title=\"Vader Score Over Time After Interpolation\")\n",
    "    return fig\n",
    "\n",
    "def plot_vader_score_forward_backward_fill():\n",
    "    df_filled = pd.DataFrame({\n",
    "        \"Date\": [\"2024-01-01\", \"2024-01-02\", \"2024-01-03\", \"2024-01-04\", \"2024-01-05\"],\n",
    "        \"Vader Score\": [1, 1, 3, 4, 4]\n",
    "    })\n",
    "    fig = px.line(df_filled, x=\"Date\", y=\"Vader Score\", title=\"Vader Score Over Time: Forward and Backward Fill\")\n",
    "    return fig\n",
    "\n",
    "# App layout\n",
    "app.layout = html.Div([\n",
    "    html.H1(\"Twitter Analysis Dashboard\"),\n",
    "    dcc.Dropdown(\n",
    "        id=\"graph-selector\",\n",
    "        options=[\n",
    "            {\"label\": \"Vader Score Over Time: Missing Values\", \"value\": \"vader_score_missing_values\"},\n",
    "            {\"label\": \"Vader Score Over Time After Interpolation\", \"value\": \"vader_score_interpolation\"},\n",
    "            {\"label\": \"Vader Score Over Time: Forward and Backward Fill\", \"value\": \"vader_score_forward_backward_fill\"}\n",
    "        ],\n",
    "        value=\"vader_score_missing_values\"\n",
    "    ),\n",
    "    dcc.Graph(id=\"main-graph\")\n",
    "])\n",
    "\n",
    "# Update graph callback\n",
    "@app.callback(\n",
    "    Output(\"main-graph\", \"figure\"),\n",
    "    [Input(\"graph-selector\", \"value\")]\n",
    ")\n",
    "def update_graph(selected_graph):\n",
    "    if selected_graph == \"vader_score_missing_values\":\n",
    "        fig = plot_vader_score_missing_values()\n",
    "    elif selected_graph == \"vader_score_interpolation\":\n",
    "        fig = plot_vader_score_interpolation()\n",
    "    elif selected_graph == \"vader_score_forward_backward_fill\":\n",
    "        fig = plot_vader_score_forward_backward_fill()\n",
    "    return fig\n",
    "\n",
    "# Run the app on port 8866\n",
    "if __name__ == \"__main__\":\n",
    "    app.run_server(debug=True, port=8866)\n"
   ]
  },
  {
   "cell_type": "code",
   "execution_count": null,
   "id": "361a949b",
   "metadata": {},
   "outputs": [],
   "source": []
  }
 ],
 "metadata": {
  "kernelspec": {
   "display_name": "Python 3 (ipykernel)",
   "language": "python",
   "name": "python3"
  },
  "language_info": {
   "codemirror_mode": {
    "name": "ipython",
    "version": 3
   },
   "file_extension": ".py",
   "mimetype": "text/x-python",
   "name": "python",
   "nbconvert_exporter": "python",
   "pygments_lexer": "ipython3",
   "version": "3.11.5"
  }
 },
 "nbformat": 4,
 "nbformat_minor": 5
}
