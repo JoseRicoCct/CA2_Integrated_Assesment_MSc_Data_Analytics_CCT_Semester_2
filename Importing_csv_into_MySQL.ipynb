{
 "cells": [
  {
   "cell_type": "code",
   "execution_count": 1,
   "id": "8b790e4b",
   "metadata": {},
   "outputs": [],
   "source": [
    "# Importing needed packages.\n",
    "\n",
    "import time                           # Built-in, no version.\n",
    "import pandas as pd                   # Version 2.2.1.\n",
    "from datetime import datetime         # Built-in, no version.\n",
    "from sqlalchemy import create_engine  # Version 2.0.28."
   ]
  },
  {
   "cell_type": "code",
   "execution_count": 2,
   "id": "e34d5b1f",
   "metadata": {},
   "outputs": [
    {
     "name": "stdout",
     "output_type": "stream",
     "text": [
      "Imported 100000 rows so far...\n",
      "Imported 200000 rows so far...\n",
      "Imported 300000 rows so far...\n",
      "Imported 400000 rows so far...\n",
      "Imported 500000 rows so far...\n",
      "Imported 600000 rows so far...\n",
      "Imported 700000 rows so far...\n",
      "Imported 800000 rows so far...\n",
      "Imported 900000 rows so far...\n",
      "Imported 1000000 rows so far...\n",
      "Imported 1100000 rows so far...\n",
      "Imported 1200000 rows so far...\n",
      "Imported 1300000 rows so far...\n",
      "Imported 1400000 rows so far...\n",
      "Imported 1500000 rows so far...\n",
      "Imported 1598314 rows so far...\n"
     ]
    }
   ],
   "source": [
    "start_time = time.time() # Starting time. By timing this operation perfomance is evaluated.\n",
    "\n",
    "# Connection details, these are my credentials and db name, change if you intend to replicate it.\n",
    "user = 'root'\n",
    "password = 'password'\n",
    "host = 'localhost'\n",
    "database = 'twitterdb'\n",
    "\n",
    "# Creating the engine for database connection.\n",
    "engine = create_engine(f'mysql+pymysql://{user}:{password}@{host}/{database}')\n",
    "\n",
    "# Specify the chunk size, we need to break it into smaller pieces otherwise system will crash, not enough RAM.\n",
    "chunksize = 100000\n",
    "\n",
    "# Specify the path to your csv file, mine is in the same directory.\n",
    "csv_file = 'CleanProjectTweets.csv'\n",
    "\n",
    "\n",
    "# Initialize a counter for the total number of rows\n",
    "total_rows_imported = 0\n",
    "\n",
    "for chunk in pd.read_csv(csv_file, chunksize=chunksize):\n",
    "    # Import the chunk to SQL\n",
    "    chunk.to_sql('tweets', con=engine, if_exists='append', index=False)\n",
    "    # Update the total number of rows imported\n",
    "    total_rows_imported += len(chunk)\n",
    "    # Optionally print the progress\n",
    "    print(f\"Imported {total_rows_imported} rows so far...\")\n",
    "    \n",
    "end_time = time.time() # Stopping the clock."
   ]
  },
  {
   "cell_type": "code",
   "execution_count": 3,
   "id": "17a2ca9a",
   "metadata": {},
   "outputs": [
    {
     "name": "stdout",
     "output_type": "stream",
     "text": [
      "Running time to import 1598314 rows into MySQL: 0 minutes 43 seconds\n"
     ]
    }
   ],
   "source": [
    "execution_time = end_time - start_time # Calculating running time.\n",
    "\n",
    "# Convert execution time to minutes and seconds.\n",
    "minutes = int(execution_time // 60)\n",
    "seconds = int(execution_time % 60)\n",
    "\n",
    "# After finishing the import, print the total count of rows imported\n",
    "print(f\"Running time to import {total_rows_imported} rows into MySQL: {minutes} minutes {seconds} seconds\")"
   ]
  },
  {
   "cell_type": "code",
   "execution_count": 4,
   "id": "1683f7f6",
   "metadata": {},
   "outputs": [
    {
     "name": "stdout",
     "output_type": "stream",
     "text": [
      "2.Importing_1.6GB_CSV_to_MySQL.ipynb was last run on: April 20, 2024, 18:15:38\n"
     ]
    }
   ],
   "source": [
    "# Getting current date and time.\n",
    "current_time = datetime.now()\n",
    "\n",
    "# Formatting the date and time in a readable format:\n",
    "formatted_time = current_time.strftime('%B %d, %Y, %H:%M:%S')\n",
    "\n",
    "# Print the formatted date and time.\n",
    "print(f\"Importing_csv_into_MySQL.ipynb was last run on: {formatted_time}\")"
   ]
  }
 ],
 "metadata": {
  "kernelspec": {
   "display_name": "Python 3 (ipykernel)",
   "language": "python",
   "name": "python3"
  },
  "language_info": {
   "codemirror_mode": {
    "name": "ipython",
    "version": 3
   },
   "file_extension": ".py",
   "mimetype": "text/x-python",
   "name": "python",
   "nbconvert_exporter": "python",
   "pygments_lexer": "ipython3",
   "version": "3.10.12"
  }
 },
 "nbformat": 4,
 "nbformat_minor": 5
}
